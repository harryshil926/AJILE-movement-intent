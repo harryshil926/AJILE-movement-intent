{
 "cells": [
  {
   "cell_type": "code",
   "execution_count": 52,
   "id": "defedc3b",
   "metadata": {},
   "outputs": [],
   "source": [
    "import torch\n",
    "import torch.nn as nn\n",
    "import torch.optim as optim\n",
    "from torch.utils.data import DataLoader, Dataset\n",
    "from model import neural_model as nm\n",
    "import pandas as pd"
   ]
  },
  {
   "cell_type": "code",
   "execution_count": 53,
   "id": "1db13077",
   "metadata": {},
   "outputs": [],
   "source": [
    "df = pd.read_csv('final_extracted_a0f66459.csv')\n",
    "electrode_col_names = [col for col in df.columns if 'GRID' in col ]\n",
    "X = df[electrode_col_names]\n",
    "Y = df['mvmt']\n",
    "Y = (Y=='r_arm_1').astype(int)\n",
    "num_samples = len(Y)\n",
    "\n",
    "train_X = X[:int(num_samples*.8)]\n",
    "test_X = X[int(num_samples*.8):int(num_samples*.9)]\n",
    "val_X = X[int(num_samples*.9):]\n",
    "train_Y = Y[:int(num_samples*.8)]\n",
    "test_Y = Y[int(num_samples*.8):int(num_samples*.9)]\n",
    "val_Y = Y[int(num_samples*.9):]"
   ]
  },
  {
   "cell_type": "code",
   "execution_count": 62,
   "id": "0428e691",
   "metadata": {},
   "outputs": [],
   "source": [
    "class ecog_dataset(Dataset):\n",
    "    def __init__(self, x, y):\n",
    "        self.data = x\n",
    "        self.keys = y\n",
    "        \n",
    "    def __len__(self):\n",
    "        return len(self.keys)\n",
    "    \n",
    "    def __getitem__(self, index):\n",
    "        return torch.tensor(self.data.iloc[index]), torch.tensor([self.keys.iloc[index]])"
   ]
  },
  {
   "cell_type": "code",
   "execution_count": 63,
   "id": "581f6d8a",
   "metadata": {},
   "outputs": [],
   "source": [
    "trainset = ecog_dataset(train_X, train_Y)\n",
    "testset = ecog_dataset(test_X, test_Y)\n",
    "valset = ecog_dataset(val_X, val_Y)\n",
    "\n",
    "trainloader = DataLoader(trainset, batch_size=1, shuffle=False) #dataset to train on (80% data)\n",
    "testloader = DataLoader(testset, batch_size=1, shuffle=False) #dataset to test each epoch on (10% data)\n",
    "validloader = DataLoader(valset, batch_size=1, shuffle=False) #dataset to validate perf on (10% data)"
   ]
  },
  {
   "cell_type": "code",
   "execution_count": 94,
   "id": "4560725c",
   "metadata": {},
   "outputs": [],
   "source": [
    "#define network and params\n",
    "net = nm(64)\n",
    "\n",
    "loss_func = nn.BCELoss()\n",
    "optimizer = optim.Adam(net.parameters(), lr=.1)"
   ]
  },
  {
   "cell_type": "code",
   "execution_count": 95,
   "id": "7e264ea6",
   "metadata": {},
   "outputs": [
    {
     "name": "stdout",
     "output_type": "stream",
     "text": [
      "Epoch:  0 train loss:  61.028315946348734 test loss:  61.30952380952381\n",
      "Epoch:  1 train loss:  61.028315946348734 test loss:  61.30952380952381\n",
      "Epoch:  2 train loss:  61.028315946348734 test loss:  61.30952380952381\n",
      "Epoch:  3 train loss:  61.028315946348734 test loss:  61.30952380952381\n",
      "Epoch:  4 train loss:  61.028315946348734 test loss:  61.30952380952381\n",
      "Epoch:  5 train loss:  61.028315946348734 test loss:  61.30952380952381\n",
      "Epoch:  6 train loss:  61.028315946348734 test loss:  61.30952380952381\n",
      "Epoch:  7 train loss:  61.028315946348734 test loss:  61.30952380952381\n",
      "Epoch:  8 train loss:  61.028315946348734 test loss:  61.30952380952381\n",
      "Epoch:  9 train loss:  61.028315946348734 test loss:  61.30952380952381\n"
     ]
    }
   ],
   "source": [
    "#train\n",
    "for epoch in range(10):\n",
    "    running_loss = 0.0\n",
    "    train_count = 0\n",
    "    for i, data in enumerate(trainloader):\n",
    "        inputs, labels = data\n",
    "        optimizer.zero_grad()\n",
    "        outputs = net(inputs.float())\n",
    "        loss = loss_func(outputs.float(), labels.float())\n",
    "        loss.backward()\n",
    "        optimizer.step()\n",
    "        running_loss += loss.item()\n",
    "        train_count += 1\n",
    "    #do epoch test on separate test set\n",
    "    test_loss = 0.0\n",
    "    test_count = 0\n",
    "    for i, data in enumerate(testloader, 0):\n",
    "        inputs, labels = data\n",
    "        outputs = net(inputs.float())\n",
    "        loss = loss_func(outputs, labels.float())\n",
    "        test_loss += loss.item()\n",
    "        test_count += 1\n",
    "    print(\"Epoch: \", epoch, 'train loss: ', running_loss/train_count, \n",
    "          'test loss: ', test_loss/test_count)"
   ]
  },
  {
   "cell_type": "code",
   "execution_count": 98,
   "id": "01dbf1a7",
   "metadata": {},
   "outputs": [
    {
     "name": "stdout",
     "output_type": "stream",
     "text": [
      "[1, 1, 1, 1, 1, 1, 1, 1, 1, 1, 1, 1, 1, 1, 1, 1, 1, 1, 1, 1, 1, 1, 1, 1, 1, 1, 1, 1, 1, 1, 1, 1, 1, 1, 1, 1, 1, 1, 1, 1, 1, 1, 1, 1, 1, 1, 1, 1, 1, 1, 1, 1, 1, 1, 1, 1, 1, 1, 1, 1, 1, 1, 1, 1, 1, 1, 1, 1, 1, 1, 1, 1, 1, 1, 1, 1, 1, 1, 1, 1, 1, 1, 1, 1, 1, 1, 1, 1, 1, 1, 1, 1, 1, 1, 1, 1, 1, 1, 1, 1, 1, 1, 1, 1, 1, 1, 1, 1, 1, 0, 0, 0, 0, 0, 0, 0, 0, 1, 1, 1, 1, 1, 1, 1, 1, 1, 0, 0, 0, 0, 0, 0, 0, 0, 0, 1, 1, 1, 1, 1, 1, 1, 1, 1, 1, 1, 1, 1, 1, 1, 1, 1, 1, 1, 1, 1, 1, 1, 1, 1, 1, 1, 1, 1, 1, 1, 1, 1]\n",
      "[0.0, 0.0, 0.0, 0.0, 0.0, 0.0, 0.0, 0.0, 0.0, 0.0, 0.0, 0.0, 0.0, 0.0, 0.0, 0.0, 0.0, 0.0, 0.0, 0.0, 0.0, 0.0, 0.0, 0.0, 0.0, 0.0, 0.0, 0.0, 0.0, 0.0, 0.0, 0.0, 0.0, 0.0, 0.0, 0.0, 0.0, 0.0, 0.0, 0.0, 0.0, 0.0, 0.0, 0.0, 0.0, 0.0, 0.0, 0.0, 0.0, 0.0, 0.0, 0.0, 0.0, 0.0, 0.0, 0.0, 0.0, 0.0, 0.0, 0.0, 0.0, 0.0, 0.0, 0.0, 0.0, 0.0, 0.0, 0.0, 0.0, 0.0, 0.0, 0.0, 0.0, 0.0, 0.0, 0.0, 0.0, 0.0, 0.0, 0.0, 0.0, 0.0, 0.0, 0.0, 0.0, 0.0, 0.0, 0.0, 0.0, 0.0, 0.0, 0.0, 0.0, 0.0, 0.0, 0.0, 0.0, 0.0, 0.0, 0.0, 0.0, 0.0, 0.0, 0.0, 0.0, 0.0, 0.0, 0.0, 0.0, 0.0, 0.0, 0.0, 0.0, 0.0, 0.0, 0.0, 0.0, 0.0, 0.0, 0.0, 0.0, 0.0, 0.0, 0.0, 0.0, 0.0, 0.0, 0.0, 0.0, 0.0, 0.0, 0.0, 0.0, 0.0, 0.0, 0.0, 0.0, 0.0, 0.0, 0.0, 0.0, 0.0, 0.0, 0.0, 0.0, 0.0, 0.0, 0.0, 0.0, 0.0, 0.0, 0.0, 0.0, 0.0, 0.0, 0.0, 0.0, 0.0, 0.0, 0.0, 0.0, 0.0, 0.0, 0.0, 0.0, 0.0, 0.0, 0.0]\n",
      "validation loss:  89.88095238095238\n"
     ]
    }
   ],
   "source": [
    "#validate\n",
    "validate_loss = 0.0\n",
    "validate_count = 0\n",
    "y_pred = []\n",
    "y_true = []\n",
    "for i, data in enumerate(validloader, 0):\n",
    "    inputs, labels = data\n",
    "    outputs = net(inputs.float())\n",
    "    loss = loss_func(outputs, labels.float())\n",
    "    y_pred.append(outputs.item())\n",
    "    y_true.append(labels.item())\n",
    "    validate_loss += loss.item()\n",
    "    validate_count += 1\n",
    "print(y_true)\n",
    "print(y_pred)\n",
    "print('validation loss: ', validate_loss / validate_count)"
   ]
  },
  {
   "cell_type": "code",
   "execution_count": 99,
   "id": "ef109256",
   "metadata": {},
   "outputs": [
    {
     "data": {
      "text/plain": [
       "0.5"
      ]
     },
     "execution_count": 99,
     "metadata": {},
     "output_type": "execute_result"
    }
   ],
   "source": [
    "from sklearn.metrics import balanced_accuracy_score\n",
    "balanced_accuracy_score(y_true, y_pred)"
   ]
  },
  {
   "cell_type": "code",
   "execution_count": null,
   "id": "fab63194",
   "metadata": {},
   "outputs": [],
   "source": []
  }
 ],
 "metadata": {
  "kernelspec": {
   "display_name": "Python 3",
   "language": "python",
   "name": "python3"
  },
  "language_info": {
   "codemirror_mode": {
    "name": "ipython",
    "version": 3
   },
   "file_extension": ".py",
   "mimetype": "text/x-python",
   "name": "python",
   "nbconvert_exporter": "python",
   "pygments_lexer": "ipython3",
   "version": "3.8.8"
  }
 },
 "nbformat": 4,
 "nbformat_minor": 5
}
