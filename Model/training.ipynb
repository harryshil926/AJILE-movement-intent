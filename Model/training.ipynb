{
 "cells": [
  {
   "cell_type": "code",
   "execution_count": 7,
   "id": "defedc3b",
   "metadata": {},
   "outputs": [],
   "source": [
    "import torch\n",
    "import torch.nn as nn\n",
    "import torch.optim as optim\n",
    "from torch.utils.data import DataLoader\n",
    "from model import neural_model as nm"
   ]
  },
  {
   "cell_type": "code",
   "execution_count": 3,
   "id": "1db13077",
   "metadata": {},
   "outputs": [
    {
     "ename": "TypeError",
     "evalue": "__init__() missing 1 required positional argument: 'dataset'",
     "output_type": "error",
     "traceback": [
      "\u001b[1;31m---------------------------------------------------------------------------\u001b[0m",
      "\u001b[1;31mTypeError\u001b[0m                                 Traceback (most recent call last)",
      "\u001b[1;32m<ipython-input-3-4ffa80bcb78f>\u001b[0m in \u001b[0;36m<module>\u001b[1;34m\u001b[0m\n\u001b[0;32m      1\u001b[0m \u001b[1;31m#load the data TODO\u001b[0m\u001b[1;33m\u001b[0m\u001b[1;33m\u001b[0m\u001b[1;33m\u001b[0m\u001b[0m\n\u001b[1;32m----> 2\u001b[1;33m \u001b[0mtrainloader\u001b[0m \u001b[1;33m=\u001b[0m \u001b[0mDataLoader\u001b[0m\u001b[1;33m(\u001b[0m\u001b[1;33m)\u001b[0m \u001b[1;31m#dataset to train on (80% data)\u001b[0m\u001b[1;33m\u001b[0m\u001b[1;33m\u001b[0m\u001b[0m\n\u001b[0m\u001b[0;32m      3\u001b[0m \u001b[0mtestloader\u001b[0m \u001b[1;33m=\u001b[0m \u001b[0mDataLoader\u001b[0m\u001b[1;33m(\u001b[0m\u001b[1;33m)\u001b[0m \u001b[1;31m#dataset to test each epoch on (10% data)\u001b[0m\u001b[1;33m\u001b[0m\u001b[1;33m\u001b[0m\u001b[0m\n\u001b[0;32m      4\u001b[0m \u001b[0mvalidloader\u001b[0m \u001b[1;33m=\u001b[0m \u001b[0mDataLoader\u001b[0m\u001b[1;33m(\u001b[0m\u001b[1;33m)\u001b[0m \u001b[1;31m#dataset to validate perf on (10% data)\u001b[0m\u001b[1;33m\u001b[0m\u001b[1;33m\u001b[0m\u001b[0m\n",
      "\u001b[1;31mTypeError\u001b[0m: __init__() missing 1 required positional argument: 'dataset'"
     ]
    }
   ],
   "source": [
    "#load the data TODO\n",
    "trainloader = DataLoader() #dataset to train on (80% data)\n",
    "testloader = DataLoader() #dataset to test each epoch on (10% data)\n",
    "validloader = DataLoader() #dataset to validate perf on (10% data)"
   ]
  },
  {
   "cell_type": "code",
   "execution_count": 8,
   "id": "4560725c",
   "metadata": {},
   "outputs": [],
   "source": [
    "#define network and params\n",
    "net = nm(80)\n",
    "\n",
    "loss_func = nn.BCELoss()\n",
    "optimizer = optim.SGD(net.parameters(), lr=.001, momentum=0.9)"
   ]
  },
  {
   "cell_type": "code",
   "execution_count": null,
   "id": "7e264ea6",
   "metadata": {},
   "outputs": [],
   "source": [
    "#train\n",
    "for epoch in range(5):\n",
    "    running_loss = 0.0\n",
    "    train_count = 0\n",
    "    for i, data in enumerate(trainloader, 0):\n",
    "        inputs, labels = data\n",
    "        optimizer.zero_grad()\n",
    "        outputs = net(inputs)\n",
    "        loss = loss_func(outputs, labels)\n",
    "        loss.backward()\n",
    "        optimizer.step()\n",
    "        running_loss += loss.item()\n",
    "        train_count += 1\n",
    "    #do epoch test on separate test set\n",
    "    test_loss = 0.0\n",
    "    test_count = 0\n",
    "    for i, data in enumerate(testloader, 0):\n",
    "        inputs, labels = data\n",
    "        outputs = net(inputs)\n",
    "        loss = loss_func(outputs, labels)\n",
    "        test_loss += loss.item()\n",
    "        test_count += 1\n",
    "    print(\"Epoch: \", epoch, 'train loss: ', running_loss/train_count, \n",
    "          'test loss: ', test_loss/test_count)"
   ]
  },
  {
   "cell_type": "code",
   "execution_count": 11,
   "id": "01dbf1a7",
   "metadata": {},
   "outputs": [],
   "source": [
    "#validate\n",
    "validate_loss = 0.0\n",
    "validate_count = 0\n",
    "for i, data in enumerate(validloader, 0):\n",
    "    inputs, labels = data\n",
    "    outputs = net(inputs)\n",
    "    loss = loss_func(outputs, labels)\n",
    "    validate_loss += loss.item()\n",
    "    validate_count += 1\n",
    "print('validation loss: ', validate_loss / validate_count)"
   ]
  },
  {
   "cell_type": "code",
   "execution_count": null,
   "id": "ef109256",
   "metadata": {},
   "outputs": [],
   "source": []
  }
 ],
 "metadata": {
  "kernelspec": {
   "display_name": "Python 3",
   "language": "python",
   "name": "python3"
  },
  "language_info": {
   "codemirror_mode": {
    "name": "ipython",
    "version": 3
   },
   "file_extension": ".py",
   "mimetype": "text/x-python",
   "name": "python",
   "nbconvert_exporter": "python",
   "pygments_lexer": "ipython3",
   "version": "3.8.8"
  }
 },
 "nbformat": 4,
 "nbformat_minor": 5
}
