{
 "cells": [
  {
   "cell_type": "code",
   "execution_count": 24,
   "id": "40cd8bb1",
   "metadata": {},
   "outputs": [],
   "source": [
    "import pandas as pd\n",
    "import glob\n",
    "\n",
    "# File Directory\n",
    "path = \"/Users/harshil.dadlani/Desktop/UW_Courses/2021_Fall/560/Project/Datasets/Extracted_Data/\"\n",
    "\n",
    "# read all the files with extension .csv\n",
    "filenames = glob.glob(path + \"/*.csv\")\n",
    "\n",
    "# for loop to iterate concat all files.\n",
    "final_csv_file = pd.read_csv(filenames[0])\n",
    "for file in filenames[1:]:\n",
    "    final_csv_file = pd.concat([final_csv_file, pd.read_csv(file)])"
   ]
  },
  {
   "cell_type": "code",
   "execution_count": 23,
   "id": "4d8c5653",
   "metadata": {},
   "outputs": [],
   "source": [
    "final_csv_file.to_csv(f'/Users/harshil.dadlani/Desktop/UW_Courses/2021_Fall/560/Project/Datasets/Extracted_Data/final_extracted_a0f66459.csv')"
   ]
  },
  {
   "cell_type": "code",
   "execution_count": null,
   "id": "d7b966c8",
   "metadata": {},
   "outputs": [],
   "source": []
  }
 ],
 "metadata": {
  "kernelspec": {
   "display_name": "Python 3",
   "language": "python",
   "name": "python3"
  },
  "language_info": {
   "codemirror_mode": {
    "name": "ipython",
    "version": 3
   },
   "file_extension": ".py",
   "mimetype": "text/x-python",
   "name": "python",
   "nbconvert_exporter": "python",
   "pygments_lexer": "ipython3",
   "version": "3.8.8"
  }
 },
 "nbformat": 4,
 "nbformat_minor": 5
}
