{
 "cells": [
  {
   "cell_type": "code",
   "execution_count": 866,
   "id": "4f38fcb4",
   "metadata": {},
   "outputs": [],
   "source": [
    "import pandas as pd\n",
    "from sklearn.linear_model import LogisticRegression\n",
    "from sklearn.metrics import balanced_accuracy_score\n",
    "from sklearn.model_selection import train_test_split\n",
    "from sklearn.model_selection import RepeatedStratifiedKFold\n",
    "from sklearn.pipeline import make_pipeline\n",
    "from sklearn.model_selection import cross_validate\n",
    "from sklearn import svm\n",
    "import networkx as nx\n",
    "from sklearn.ensemble import RandomForestClassifier\n",
    "from sklearn.metrics import accuracy_score\n",
    "import numpy as np"
   ]
  },
  {
   "cell_type": "code",
   "execution_count": 2,
   "id": "55571b91",
   "metadata": {},
   "outputs": [],
   "source": [
    "df = pd.read_csv('/Users/harshil.dadlani/Desktop/UW_Courses/2021_Fall/560/Project/Datasets/Extracted_Data/final_extracted_a0f66459.csv')"
   ]
  },
  {
   "cell_type": "code",
   "execution_count": 33,
   "id": "988e17bc",
   "metadata": {},
   "outputs": [],
   "source": [
    "electrode_col_names = [col for col in df.columns if 'GRID' in col ]"
   ]
  },
  {
   "cell_type": "code",
   "execution_count": 39,
   "id": "21f3c390",
   "metadata": {},
   "outputs": [],
   "source": [
    "X = df[electrode_col_names]\n",
    "Y = df['mvmt']"
   ]
  },
  {
   "cell_type": "code",
   "execution_count": 831,
   "id": "1845d61c",
   "metadata": {},
   "outputs": [],
   "source": [
    "# Separate out the test-set as hold-out (80:20)\n",
    "X_train, X_test, y_train, y_test = train_test_split(X, Y,stratify=Y, test_size=0.20)"
   ]
  },
  {
   "cell_type": "code",
   "execution_count": 718,
   "id": "09e2a496",
   "metadata": {},
   "outputs": [
    {
     "data": {
      "text/plain": [
       "168"
      ]
     },
     "execution_count": 718,
     "metadata": {},
     "output_type": "execute_result"
    }
   ],
   "source": [
    "#test_size=len(round(y_test))/2\n",
    "int(len(y_test)/2)"
   ]
  },
  {
   "cell_type": "code",
   "execution_count": 719,
   "id": "d841393e",
   "metadata": {},
   "outputs": [],
   "source": [
    "# Separate out the train and validation set (70:10)\n",
    "#X_train, X_val, y_train, y_val = train_test_split(X_train, y_train,stratify=y_train, test_size=int(len(y_test)/2))"
   ]
  },
  {
   "cell_type": "code",
   "execution_count": 848,
   "id": "5cc8d30c",
   "metadata": {},
   "outputs": [],
   "source": [
    "# Define utility functions\n",
    "def get_scores(X,y,classifier,scoring_metrics=['accuracy','balanced_accuracy']):\n",
    "    cv = RepeatedStratifiedKFold(n_splits=5, n_repeats=3, random_state=1)\n",
    "    pipeline = make_pipeline(classifier)\n",
    "    scores = cross_validate(pipeline, X, y, scoring=scoring_metrics, cv=cv, n_jobs=-1)\n",
    "    return {\"balanced_accuracy\": scores['test_balanced_accuracy'].mean(),\n",
    "            \"accuracy\":scores['test_accuracy'].mean()}\n",
    "            \n",
    "def get_positively_correlated_features(df, threshold=0.6):\n",
    "    cols = X_train.corr().unstack()\n",
    "    cols = cols.sort_values(kind=\"quicksort\",ascending=False)[64:]\n",
    "    corr_elems = list(cols[cols>threshold].index)\n",
    "    correlated_features = [list(pair) for pair in corr_elems[1::2]]\n",
    "    g = nx.Graph()\n",
    "    ipath = correlated_features\n",
    "    for p in ipath:\n",
    "        g.add_edges_from(zip(p, p[1:]))\n",
    "    correlated_features = []\n",
    "    for c in nx.connected_components(g):\n",
    "        correlated_features.append(list(c))\n",
    "    return correlated_features"
   ]
  },
  {
   "cell_type": "code",
   "execution_count": 849,
   "id": "518f6925",
   "metadata": {},
   "outputs": [
    {
     "data": {
      "text/plain": [
       "r_arm_1    0.639344\n",
       "mv_0       0.360656\n",
       "Name: mvmt, dtype: float64"
      ]
     },
     "execution_count": 849,
     "metadata": {},
     "output_type": "execute_result"
    }
   ],
   "source": [
    "# Random guessing\n",
    "y_train.value_counts()/len(y_train)"
   ]
  },
  {
   "cell_type": "code",
   "execution_count": 895,
   "id": "f07b8350",
   "metadata": {},
   "outputs": [
    {
     "data": {
      "text/plain": [
       "{'balanced_accuracy': 0.4982501473321547, 'accuracy': 0.637109064343709}"
      ]
     },
     "execution_count": 895,
     "metadata": {},
     "output_type": "execute_result"
    }
   ],
   "source": [
    "# Iteration-0, Baseline model\n",
    "clf = LogisticRegression(random_state=0,C=10)\n",
    "get_scores(X_train,y_train,clf,scoring_metrics=['accuracy','balanced_accuracy'])\n"
   ]
  },
  {
   "cell_type": "code",
   "execution_count": 896,
   "id": "fa0f2a3c",
   "metadata": {},
   "outputs": [
    {
     "data": {
      "text/plain": [
       "0.3194029850746269"
      ]
     },
     "execution_count": 896,
     "metadata": {},
     "output_type": "execute_result"
    }
   ],
   "source": [
    "# Test Set performance\n",
    "clf.fit(X_train,y_train)\n",
    "pred=clf.predict(X_test)\n",
    "balanced_accuracy_score(pred,y_test)"
   ]
  },
  {
   "cell_type": "code",
   "execution_count": 904,
   "id": "11624bbf",
   "metadata": {},
   "outputs": [
    {
     "name": "stdout",
     "output_type": "stream",
     "text": [
      "{'balanced_accuracy': 0.6001262035436362, 'accuracy': 0.6731398768240583}\n",
      "(100, 'sqrt', 30, 2, 1, False)\n"
     ]
    }
   ],
   "source": [
    "# Iteration-1, Random Forest tuning\n",
    "\n",
    "# Number of trees in random forest\n",
    "n_estimators = [100]\n",
    "# Number of features to consider at every split\n",
    "max_features = ['auto', 'sqrt']\n",
    "# Maximum number of levels in tree\n",
    "max_depth = [5,10,15,20,25,30,35,40,45,50,60,70,80,90,100]\n",
    "# Minimum number of samples required to split a node\n",
    "min_samples_split = [2, 5]\n",
    "# Minimum number of samples required at each leaf node\n",
    "min_samples_leaf = [1, 2]\n",
    "# Method of selecting samples for training each tree\n",
    "bootstrap = [True, False]\n",
    "\n",
    "grid_combo = list(itertools.product(n_estimators, max_features, max_depth,min_samples_split,min_samples_leaf,bootstrap))\n",
    "best_score = None\n",
    "best_model = None\n",
    "max_iter=2\n",
    "best_bac=0\n",
    "iter_1=10000\n",
    "for combo in grid_combo:\n",
    "    clf = RandomForestClassifier(n_estimators=combo[0], max_features=combo[1], max_depth=combo[2],min_samples_split=combo[3],min_samples_leaf=combo[4],bootstrap=combo[5])\n",
    "    res = get_scores(X_train,y_train,clf,scoring_metrics=['accuracy','balanced_accuracy'])\n",
    "    if res['balanced_accuracy']>best_bac:\n",
    "        best_bac=res['balanced_accuracy']\n",
    "        best_score=res\n",
    "        best_model=combo\n",
    "    if iter_1==max_iter:\n",
    "        break\n",
    "    iter_1+=1\n",
    "print(best_score)\n",
    "print(best_model)"
   ]
  },
  {
   "cell_type": "code",
   "execution_count": 905,
   "id": "24df6548",
   "metadata": {},
   "outputs": [
    {
     "data": {
      "text/plain": [
       "0.6334586466165413"
      ]
     },
     "execution_count": 905,
     "metadata": {},
     "output_type": "execute_result"
    }
   ],
   "source": [
    "# Test Set Performance\n",
    "combo=best_model\n",
    "clf=RandomForestClassifier(n_estimators=combo[0], max_features=combo[1], max_depth=combo[2],min_samples_split=combo[3],min_samples_leaf=combo[4],bootstrap=combo[5])\n",
    "clf.fit(X_train,y_train)\n",
    "pred=clf.predict(X_test)\n",
    "balanced_accuracy_score(pred,y_test)"
   ]
  },
  {
   "cell_type": "code",
   "execution_count": 734,
   "id": "142a0238",
   "metadata": {},
   "outputs": [],
   "source": [
    "# Iteration-2, Peform Dimensionality reduction\n",
    "\n",
    "def perform_dimensionality_reduction(X_train,X_val,threshold=0.7):\n",
    "    correlated_features = get_positively_correlated_features(X_train,threshold)\n",
    "    combined_features=[]\n",
    "    X_train_temp=pd.DataFrame()\n",
    "    X_val_temp = pd.DataFrame()\n",
    "    for group in correlated_features:\n",
    "        combined_features.extend(group)\n",
    "        if len(group)==2:\n",
    "            pca = PCA(n_components=1)\n",
    "            pca.fit(X_train[pair])\n",
    "            X_train_temp['_'.join(group)+'_PC1']=pd.Series(pca.transform(X_train[pair]).T[0],index=X_train.index)\n",
    "            X_val_temp['_'.join(group)+'_PC1']=pd.Series(pca.transform(X_val[pair]).T[0],index=X_val.index)\n",
    "        else:\n",
    "            pca = PCA(n_components=2)\n",
    "            pca.fit(X_train[pair])\n",
    "            X_train_temp['_'.join(group)+'_PC1']=pd.Series(pca.transform(X_train[pair]).T[0],index=X_train.index)\n",
    "            X_train_temp['_'.join(group)+'_PC2']=pd.Series(pca.transform(X_train[pair]).T[1],index=X_train.index) \n",
    "            \n",
    "            X_val_temp['_'.join(group)+'_PC1']=pd.Series(pca.transform(X_val[pair]).T[0],index=X_val.index)        \n",
    "            X_val_temp['_'.join(group)+'_PC2']=pd.Series(pca.transform(X_val[pair]).T[1],index=X_val.index)\n",
    "    \n",
    "    return X_train_temp, X_val_temp"
   ]
  },
  {
   "cell_type": "code",
   "execution_count": 743,
   "id": "ec1a87f2",
   "metadata": {},
   "outputs": [],
   "source": [
    "# C = [0.1,1,10,10000]\n",
    "# gamma = [0.1,0.01,0.001]\n",
    "# kernel = ['rbf', 'poly', 'sigmoid']\n",
    "# grid_combo = list(itertools.product(C, gamma, kernel))\n",
    "\n",
    "# cols=['GRID1','GRID2','GRID3','GRID4','GRID5']\n",
    "# for combo in grid_combo:\n",
    "#     print(combo)\n",
    "#     clf = svm.SVC(C=combo[0],gamma=combo[1],kernel=combo[2])\n",
    "#     clf.fit(X_train[cols],y_train)\n",
    "#     pred = clf.predict(X_val[cols])\n",
    "#     score = balanced_accuracy_score(y_val,pred)\n",
    "#     print(score)"
   ]
  }
 ],
 "metadata": {
  "kernelspec": {
   "display_name": "Python 3",
   "language": "python",
   "name": "python3"
  },
  "language_info": {
   "codemirror_mode": {
    "name": "ipython",
    "version": 3
   },
   "file_extension": ".py",
   "mimetype": "text/x-python",
   "name": "python",
   "nbconvert_exporter": "python",
   "pygments_lexer": "ipython3",
   "version": "3.8.8"
  }
 },
 "nbformat": 4,
 "nbformat_minor": 5
}
