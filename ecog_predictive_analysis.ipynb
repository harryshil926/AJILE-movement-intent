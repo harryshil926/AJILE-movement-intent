{
 "cells": [
  {
   "cell_type": "code",
   "execution_count": 1,
   "id": "4f38fcb4",
   "metadata": {},
   "outputs": [],
   "source": [
    "import pandas as pd\n",
    "from sklearn.linear_model import LogisticRegression\n",
    "from sklearn.metrics import balanced_accuracy_score\n",
    "from sklearn.model_selection import train_test_split\n",
    "from sklearn.model_selection import RepeatedStratifiedKFold\n",
    "from sklearn.pipeline import make_pipeline\n",
    "from sklearn.model_selection import cross_validate\n",
    "from sklearn import svm\n",
    "import networkx as nx\n",
    "from imblearn.under_sampling import RandomUnderSampler \n",
    "from sklearn.decomposition import PCA\n",
    "from sklearn.ensemble import RandomForestClassifier\n",
    "from sklearn.metrics import accuracy_score\n",
    "from sklearn.metrics import average_precision_score\n",
    "import numpy as np\n",
    "import itertools\n",
    "from imblearn.over_sampling import RandomOverSampler \n",
    "import shap\n",
    "from sklearn.metrics import precision_score"
   ]
  },
  {
   "cell_type": "code",
   "execution_count": 2,
   "id": "55571b91",
   "metadata": {},
   "outputs": [],
   "source": [
    "df = pd.read_csv('/Users/harshil.dadlani/Desktop/UW_Courses/2021_Fall/560/Project/Datasets/Extracted_Data/final_extracted_a0f66459.csv')"
   ]
  },
  {
   "cell_type": "code",
   "execution_count": 3,
   "id": "988e17bc",
   "metadata": {},
   "outputs": [],
   "source": [
    "electrode_col_names = [col for col in df.columns if 'GRID' in col ]"
   ]
  },
  {
   "cell_type": "code",
   "execution_count": 4,
   "id": "21f3c390",
   "metadata": {},
   "outputs": [],
   "source": [
    "#random_state=1 is best\n",
    "X = df[electrode_col_names]\n",
    "Y = df['mvmt']\n",
    "mapping = {'mv_0':0, 'r_arm_1':1}\n",
    "Y = Y.map(mapping)\n",
    "scoring_metrics = ['balanced_accuracy', 'accuracy', 'average_precision']\n",
    "random_state=1"
   ]
  },
  {
   "cell_type": "code",
   "execution_count": 5,
   "id": "1845d61c",
   "metadata": {},
   "outputs": [],
   "source": [
    "# Separate out the test-set as hold-out (80:20)\n",
    "X_train, X_test, y_train, y_test = train_test_split(X, Y,stratify=Y, test_size=0.20,random_state=random_state)"
   ]
  },
  {
   "cell_type": "code",
   "execution_count": 6,
   "id": "09e2a496",
   "metadata": {},
   "outputs": [
    {
     "data": {
      "text/plain": [
       "168"
      ]
     },
     "execution_count": 6,
     "metadata": {},
     "output_type": "execute_result"
    }
   ],
   "source": [
    "#test_size=len(round(y_test))/2\n",
    "int(len(y_test)/2)"
   ]
  },
  {
   "cell_type": "code",
   "execution_count": 7,
   "id": "5cc8d30c",
   "metadata": {},
   "outputs": [],
   "source": [
    "# Define utility functions\n",
    "def get_scores(X,y,classifier,scoring_metrics):\n",
    "    cv = RepeatedStratifiedKFold(n_splits=8, n_repeats=3, random_state=random_state)\n",
    "    pipeline = make_pipeline(classifier)\n",
    "    scores = cross_validate(pipeline, X, y, scoring=scoring_metrics, cv=cv, n_jobs=-1)\n",
    "    return {'balanced_accuracy':scores['test_balanced_accuracy'].mean(),\n",
    "            'accuracy':scores['test_accuracy'].mean()}\n",
    "            \n",
    "def get_positively_correlated_features(df, threshold=0.6):\n",
    "    cols = X_train.corr().unstack()\n",
    "    cols = cols.sort_values(kind=\"quicksort\",ascending=False)[64:]\n",
    "    corr_elems = list(cols[cols>threshold].index)\n",
    "    correlated_features = [list(pair) for pair in corr_elems[1::2]]\n",
    "    g = nx.Graph()\n",
    "    ipath = correlated_features\n",
    "    for p in ipath:\n",
    "        g.add_edges_from(zip(p, p[1:]))\n",
    "    correlated_features = []\n",
    "    for c in nx.connected_components(g):\n",
    "        correlated_features.append(list(c))\n",
    "    return correlated_features"
   ]
  },
  {
   "cell_type": "code",
   "execution_count": 8,
   "id": "518f6925",
   "metadata": {},
   "outputs": [
    {
     "data": {
      "text/plain": [
       "1    0.639344\n",
       "0    0.360656\n",
       "Name: mvmt, dtype: float64"
      ]
     },
     "execution_count": 8,
     "metadata": {},
     "output_type": "execute_result"
    }
   ],
   "source": [
    "# Random guessing\n",
    "y_train.value_counts()/len(y_train)"
   ]
  },
  {
   "cell_type": "code",
   "execution_count": 9,
   "id": "f07b8350",
   "metadata": {},
   "outputs": [
    {
     "data": {
      "text/plain": [
       "{'balanced_accuracy': 0.49863707165109034, 'accuracy': 0.6376042557741659}"
      ]
     },
     "execution_count": 9,
     "metadata": {},
     "output_type": "execute_result"
    }
   ],
   "source": [
    "# Iteration-0, Baseline model\n",
    "clf = LogisticRegression(C=10,random_state=random_state)\n",
    "get_scores(X_train,y_train,clf,scoring_metrics=scoring_metrics)\n"
   ]
  },
  {
   "cell_type": "code",
   "execution_count": 10,
   "id": "c11c189a",
   "metadata": {},
   "outputs": [
    {
     "name": "stdout",
     "output_type": "stream",
     "text": [
      "ACC : 0.6398809523809523\n",
      "BAC : 0.5\n"
     ]
    }
   ],
   "source": [
    "# Iteration-0, Test Set performance\n",
    "clf.fit(X_train, y_train)\n",
    "pred = clf.predict(X_test)\n",
    "acc = accuracy_score(y_test,pred)\n",
    "bac = balanced_accuracy_score(y_test,pred)\n",
    "print(f'ACC : {acc}')\n",
    "print(f'BAC : {bac}')"
   ]
  },
  {
   "cell_type": "code",
   "execution_count": 11,
   "id": "5b194a4b",
   "metadata": {},
   "outputs": [],
   "source": [
    "# Utility functions\n",
    "def tune_rf(X_train, y_train, criteria='accuracy'):\n",
    "    grid_combo = list(itertools.product(n_estimators, max_features, max_depth,min_samples_split,min_samples_leaf,bootstrap))\n",
    "    best_res = None\n",
    "    best_model = None\n",
    "    max_iter=100\n",
    "    iter_1=0\n",
    "    best_metric=0\n",
    "    criteria = criteria\n",
    "    for combo in grid_combo:\n",
    "        clf = RandomForestClassifier(n_estimators=combo[0], max_features=combo[1], max_depth=combo[2],min_samples_split=combo[3],min_samples_leaf=combo[4],bootstrap=combo[5],random_state=random_state)\n",
    "        res = get_scores(X_train,y_train,clf,scoring_metrics=scoring_metrics)\n",
    "        if res[criteria]>best_metric:\n",
    "            best_metric=res[criteria]\n",
    "            best_res=res\n",
    "            best_model=combo\n",
    "        if iter_1==max_iter:\n",
    "            break\n",
    "        iter_1+=1\n",
    "    return best_model, best_res\n",
    "\n",
    "def perform_dimensionality_reduction(X_train,X_val,threshold=0.7):\n",
    "    correlated_features = get_positively_correlated_features(X_train,threshold)\n",
    "    combined_features=[]\n",
    "    X_train_temp=pd.DataFrame()\n",
    "    X_val_temp = pd.DataFrame()\n",
    "    for group in correlated_features:\n",
    "        combined_features.extend(group)\n",
    "        if len(group)==2:\n",
    "            pca = PCA(n_components=1,random_state=random_state)\n",
    "            pca.fit(X_train[group])\n",
    "            X_train_temp['_'.join(group)+'_PC1']=pd.Series(pca.transform(X_train[group]).T[0],index=X_train.index)\n",
    "            X_val_temp['_'.join(group)+'_PC1']=pd.Series(pca.transform(X_val[group]).T[0],index=X_val.index)\n",
    "        else:\n",
    "            pca = PCA(n_components=2,random_state=random_state)\n",
    "            pca.fit(X_train[group])\n",
    "            X_train_temp['_'.join(group)+'_PC1']=pd.Series(pca.transform(X_train[group]).T[0],index=X_train.index)\n",
    "            X_train_temp['_'.join(group)+'_PC2']=pd.Series(pca.transform(X_train[group]).T[1],index=X_train.index) \n",
    "            \n",
    "            X_val_temp['_'.join(group)+'_PC1']=pd.Series(pca.transform(X_val[group]).T[0],index=X_val.index)        \n",
    "            X_val_temp['_'.join(group)+'_PC2']=pd.Series(pca.transform(X_val[group]).T[1],index=X_val.index)\n",
    "    \n",
    "    return X_train_temp.join(X_train.drop(combined_features,axis=1)), X_val_temp.join(X_val.drop(combined_features,axis=1))"
   ]
  },
  {
   "cell_type": "code",
   "execution_count": 12,
   "id": "11624bbf",
   "metadata": {},
   "outputs": [],
   "source": [
    "# Iteration-1, Random Forest tuning\n",
    "\n",
    "# Number of trees in random forest\n",
    "n_estimators = [100]\n",
    "# Number of features to consider at every split\n",
    "max_features = ['auto', 'sqrt']\n",
    "# Maximum number of levels in tree\n",
    "max_depth = [10,20,30,40,50,60,70,80,90,100,110,120]\n",
    "# Minimum number of samples required to split a node\n",
    "min_samples_split = [2, 5]\n",
    "# Minimum number of samples required at each leaf node\n",
    "min_samples_leaf = [1, 2]\n",
    "# Method of selecting samples for training each tree\n",
    "bootstrap = [True, False]\n",
    "\n",
    "best_model, best_score=tune_rf(X_train, y_train)\n"
   ]
  },
  {
   "cell_type": "code",
   "execution_count": 13,
   "id": "24df6548",
   "metadata": {},
   "outputs": [
    {
     "name": "stdout",
     "output_type": "stream",
     "text": [
      "ACC : 0.6875\n",
      "BAC : 0.6257351527964636\n"
     ]
    }
   ],
   "source": [
    "# Iteration-1, Test Set performance\n",
    "clf=RandomForestClassifier(n_estimators=best_model[0], max_features=best_model[1], max_depth=best_model[2],min_samples_split=best_model[3],min_samples_leaf=best_model[4],bootstrap=best_model[5],random_state=random_state)\n",
    "clf.fit(X_train,y_train)\n",
    "pred=clf.predict(X_test)\n",
    "acc = accuracy_score(y_test,pred)\n",
    "bac = balanced_accuracy_score(y_test,pred)\n",
    "print(f'ACC : {acc}')\n",
    "print(f'BAC : {bac}')"
   ]
  },
  {
   "cell_type": "code",
   "execution_count": 14,
   "id": "142a0238",
   "metadata": {},
   "outputs": [],
   "source": [
    "# Iteration-2, Perform Dimensionality reduction and tune Random Forest Classifier\n",
    "\n",
    "X_train_2, X_test_2 = perform_dimensionality_reduction(X_train, X_test, threshold=0.55)\n",
    "# Number of trees in random forest\n",
    "n_estimators = [100]\n",
    "# Number of features to consider at every split\n",
    "max_features = ['auto', 'sqrt']\n",
    "# Maximum number of levels in tree\n",
    "max_depth = [5,10,15,20,25,30,35,40,45,50,60,70,80,90,100]\n",
    "# Minimum number of samples required to split a node\n",
    "min_samples_split = [2, 5]\n",
    "# Minimum number of samples required at each leaf node\n",
    "min_samples_leaf = [1, 2]\n",
    "# Method of selecting samples for training each tree\n",
    "bootstrap = [True, False]\n",
    "\n",
    "best_model, best_score=tune_rf(X_train_2, y_train)"
   ]
  },
  {
   "cell_type": "code",
   "execution_count": 15,
   "id": "a84a231d",
   "metadata": {},
   "outputs": [
    {
     "name": "stdout",
     "output_type": "stream",
     "text": [
      "ACC : 0.7202380952380952\n",
      "BAC : 0.692869498366327\n"
     ]
    }
   ],
   "source": [
    "# Test Set Performance 2\n",
    "clf=RandomForestClassifier(n_estimators=best_model[0], max_features=best_model[1], max_depth=15,min_samples_split=best_model[3],min_samples_leaf=best_model[4],bootstrap=True,random_state=random_state)\n",
    "clf.fit(X_train_2,y_train)\n",
    "pred=clf.predict(X_test_2)\n",
    "acc = accuracy_score(y_test,pred)\n",
    "bac = balanced_accuracy_score(y_test,pred)\n",
    "print(f'ACC : {acc}')\n",
    "print(f'BAC : {bac}')"
   ]
  },
  {
   "cell_type": "code",
   "execution_count": 16,
   "id": "315a0dbf",
   "metadata": {},
   "outputs": [
    {
     "data": {
      "text/plain": [
       "{'balanced_accuracy': 0.5, 'accuracy': 0.6393463073852296}"
      ]
     },
     "execution_count": 16,
     "metadata": {},
     "output_type": "execute_result"
    }
   ],
   "source": [
    "# Iteration-3, Perform Dimensionality reduction and run Logistic Regression\n",
    "\n",
    "X_train_3, X_test_3 = perform_dimensionality_reduction(X_train, X_test, threshold=0.55)\n",
    "clf = LogisticRegression(C=0.011,random_state=random_state)\n",
    "get_scores(X_train,y_train,clf,scoring_metrics=scoring_metrics)"
   ]
  },
  {
   "cell_type": "code",
   "execution_count": 95,
   "id": "a5e4658b",
   "metadata": {},
   "outputs": [],
   "source": [
    "# Iteration-4, Perform Dimensionality reduction and use random oversampler\n",
    "X_train_4, X_test_4 = perform_dimensionality_reduction(X_train, X_test, threshold=0.55)\n",
    "y_train_4 = y_train.copy()\n",
    "ros =RandomOverSampler(random_state=random_state)\n",
    "ros.fit(X_train_4,y_train_4)\n",
    "X_train_4,y_train_4 = ros.fit_resample(X_train_4,y_train_4)"
   ]
  },
  {
   "cell_type": "code",
   "execution_count": 96,
   "id": "31e793fc",
   "metadata": {},
   "outputs": [],
   "source": [
    "y_test_4 = y_test.copy()"
   ]
  },
  {
   "cell_type": "code",
   "execution_count": 97,
   "id": "d90a6166",
   "metadata": {},
   "outputs": [],
   "source": [
    "best_model, best_score=tune_rf(X_train_4, y_train_4)"
   ]
  },
  {
   "cell_type": "code",
   "execution_count": 98,
   "id": "70d77253",
   "metadata": {},
   "outputs": [
    {
     "name": "stdout",
     "output_type": "stream",
     "text": [
      "ACC : 0.7232142857142857\n",
      "BAC : 0.7006150297905055\n"
     ]
    }
   ],
   "source": [
    "# Test Set Performance 4\n",
    "clf=RandomForestClassifier(n_estimators=best_model[0], max_features=best_model[1], max_depth=best_model[2],min_samples_split=best_model[3],min_samples_leaf=best_model[4],bootstrap=best_model[5],random_state=random_state)\n",
    "clf.fit(X_train_4,y_train_4)\n",
    "pred=clf.predict(X_test_4)\n",
    "acc = accuracy_score(y_test_4,pred)\n",
    "bac = balanced_accuracy_score(y_test_4,pred)\n",
    "print(f'ACC : {acc}')\n",
    "print(f'BAC : {bac}')"
   ]
  },
  {
   "cell_type": "code",
   "execution_count": 52,
   "id": "375f651a",
   "metadata": {},
   "outputs": [],
   "source": [
    "col_names = list(X_train_4.columns)\n",
    "explainer = shap.TreeExplainer(clf)\n",
    "correct_pred=y_test.loc[y_test==pred]\n",
    "r_arm_indices = correct_pred.loc[correct_pred==1].index\n",
    "n_mvmt_indices = correct_pred.loc[correct_pred==0].index\n",
    "\n",
    "vals = np.array([0.0]*len(col_names))\n",
    "for index in list(r_arm_indices):\n",
    "    choosen_instance = X_test_4.loc[index]\n",
    "    shap_values = explainer.shap_values(choosen_instance)\n",
    "    vals+=np.array(list(shap_values[1]))\n",
    "\n",
    "keys = col_names  \n",
    "dictionary = dict(zip(keys, vals))\n"
   ]
  },
  {
   "cell_type": "code",
   "execution_count": 53,
   "id": "f6f3b931",
   "metadata": {},
   "outputs": [],
   "source": [
    "imp_feats = sorted(dictionary.items(), key=lambda x:x[1])"
   ]
  },
  {
   "cell_type": "code",
   "execution_count": 54,
   "id": "b2dd3449",
   "metadata": {},
   "outputs": [],
   "source": [
    "arr = [-45.8222, 40.0876, 38.3409,\n",
    "-48.5203, 31.3562, 42.0835,\n",
    "-49.0871, 23.7534, 45.6563,\n",
    "-50.4878, 12.3137, 51.0193,\n",
    "-50.8957, 2.55962, 53.7372,\n",
    "-53.5938, -6.17175, 57.4798,\n",
    "-53.9306, -16.912, 60.3523,\n",
    "-54.4095, -25.6799, 62.9156,\n",
    "-51.1927, 38.2999, 29.0653,\n",
    "-54.9919, 29.4973, 32.8155,\n",
    "-54.3527, 20.6217, 34.207,\n",
    "-56.9256, 10.0969, 39.423,\n",
    "-60.6707, 0.487121, 44.4919,\n",
    "-61.0786, -9.26696, 47.2098,\n",
    "-61.5034, -18.8421, 51.0919,\n",
    "-60.8101, -28.525, 53.8023,\n",
    "-54.344, 36.4757, 18.6105,\n",
    "-57.9673, 25.3429, 20.3415,\n",
    "-59.4932, 15.6966, 24.2311,\n",
    "-62.2082, 7.14414, 29.1379,\n",
    "-64.8352, -2.5734, 33.0351,\n",
    "-66.3611, -12.2197, 36.9247,\n",
    "-66.769, -21.9738, 39.6426,\n",
    "-66.0757, -31.6567, 42.353,\n",
    "-57.0929, 29.4542, 0.624882,\n",
    "-57.7104, 22.3883, 7.69024,\n",
    "-61.4555, 12.7785, 12.7592,\n",
    "-64.1535, 4.04709, 16.5018,\n",
    "-67.8817, -5.74167, 20.4065,\n",
    "-69.4245, -15.2091, 25.4603,\n",
    "-69.8324, -24.9631, 28.1782,\n",
    "-68.0549, -34.3958, 32.0452,\n",
    "-52.4112, 26.3351, -8.40951,\n",
    "-56.2103, 17.5325, -4.65936,\n",
    "-61.1986, 9.82382, 0.107904,\n",
    "-65.0147, 1.2002, 5.02222,\n",
    "-67.6417, -8.51735, 8.91942,\n",
    "-70.2687, -18.2349, 12.8166,\n",
    "-69.5924, -27.7388, 16.6911,\n",
    "-70.0171, -37.3139, 20.5732,\n",
    "-46.5607, 22.5713, -22.1081,\n",
    "-54.9571, 15.9931, -15.1445,\n",
    "-61.0465, 8.21327, -10.3696,\n",
    "-65.8048, -2.63288, -6.30269,\n",
    "-68.4318, -12.3504, -2.40549,\n",
    "-69.9577, -21.9968, 1.48414,\n",
    "-70.3825, -31.5719, 5.36622,\n",
    "-70.7903, -41.326, 8.08412,\n",
    "-47.4015, 19.2751, -29.9405,\n",
    "-54.7171, 13.2175, -26.6316,\n",
    "-62.8498, 3.14385, -22.6965,\n",
    "-65.4768, -6.5737, -18.7993,\n",
    "-69.205, -16.3625, -14.8946,\n",
    "-69.6298, -25.9376, -11.0125,\n",
    "-70.0545, -35.5127, -7.13043,\n",
    "-71.5805, -45.1591, -3.2408,\n",
    "-44.78, 14.0412, -38.6506,\n",
    "-53.1088, 6.7472, -36.3436,\n",
    "-61.4376, -0.546801, -34.0366,\n",
    "-64.0647, -10.2644, -30.1394,\n",
    "-68.894, -20.1243, -26.2271,\n",
    "-70.4199, -29.7707, -22.3374,\n",
    "-66.4401, -39.0609, -18.4856,\n",
    "-67.9829, -48.5283, -13.4318,\n",
    "-25.436, -101.35, -12.1776,\n",
    "-36.9107, -95.5164, -15.5126,\n",
    "-44.2614, -85.7239, -14.6851,\n",
    "-51.487, -77.7249, -12.3841,\n",
    "-55.3382, -70.4984, -9.95123,\n",
    "-63.7732, -60.9561, -10.2803,\n",
    "-20.4774, -62.8394, -14.6135,\n",
    "-28.6318, -56.9715, -19.1354,\n",
    "-35.597, -52.1975, -24.6744,\n",
    "-43.7683, -46.1506, -28.0321,\n",
    "-53.0407, -40.1749, -31.3822,\n",
    "-63.3025, -36.1552, -27.276,\n",
    "-33.0038, -42.122, -26.2432,\n",
    "-44.2316, -39.6052, -31.4427,\n",
    "-53.2537, -37.2163, -31.8461,\n",
    "-65.6637, -34.1463, -26.4059,\n",
    "-12.5245, -3.95891, -30.9587,\n",
    "-20.9853, -8.91875, -39.7477,\n",
    "-30.7738, -11.0827, -43.0175,\n",
    "-42.6022, -15.8107, -42.3159,\n",
    "-53.6642, -15.986, -38.7477,\n",
    "-66.8541, -17.5602, -30.1986,\n",
    "-27.0398, 0.510056, 6.44614,\n",
    "-32.3197, 1.76514, 7.9016,\n",
    "-37.8859, 2.74983, 8.87865,\n",
    "-43.0039, 3.63307, 9.99345,\n",
    "-48.1466, 4.76746, 11.076,\n",
    "-53.6054, 5.77725, 12.4715,\n",
    "-56.9877, 4.42048, 15.8705,\n",
    "-57.1087, 1.80718, 19.7188]\n",
    "coords = np.array(arr[:192]).reshape(64,3)"
   ]
  },
  {
   "cell_type": "code",
   "execution_count": 55,
   "id": "e179d5b4",
   "metadata": {},
   "outputs": [],
   "source": [
    "def get_node_strength(old_dict):\n",
    "    new_dict = {}\n",
    "    for key in old_dict.keys():\n",
    "        split_electrodes = key.split(\"_\")\n",
    "        if len(split_electrodes)>1:\n",
    "            for electrode in split_electrodes[:-1]:\n",
    "                new_dict[int(electrode[4:])]=old_dict[key]\n",
    "        else:\n",
    "            new_dict[int(key[4:])]=old_dict[key]\n",
    "    return new_dict\n",
    "    \n",
    "op = get_node_strength(dictionary)"
   ]
  },
  {
   "cell_type": "code",
   "execution_count": 56,
   "id": "cf31f537",
   "metadata": {},
   "outputs": [],
   "source": [
    "res = [item[1] for item in sorted(op.items())]"
   ]
  },
  {
   "cell_type": "code",
   "execution_count": 78,
   "id": "4f02ada2",
   "metadata": {},
   "outputs": [],
   "source": [
    "sort_op = [[k,v] for k, v in sorted(op.items(), key=lambda item: item[1],reverse=True)]"
   ]
  },
  {
   "cell_type": "code",
   "execution_count": 94,
   "id": "d28e6e49",
   "metadata": {},
   "outputs": [
    {
     "data": {
      "text/plain": [
       "<nilearn.plotting.displays.LProjector at 0x7f96adb17940>"
      ]
     },
     "execution_count": 94,
     "metadata": {},
     "output_type": "execute_result"
    },
    {
     "data": {
      "image/png": "[encoded data removed]",
      "text/plain": [
       "<Figure size 720x360 with 3 Axes>"
      ]
     },
     "metadata": {
      "needs_background": "light"
     },
     "output_type": "display_data"
    }
   ],
   "source": [
    "import matplotlib.pyplot as plt\n",
    "from nilearn import plotting\n",
    "fig = plt.figure(figsize=(10, 5))\n",
    "\n",
    "plotting.plot_markers(\n",
    "    np.log1p(res),\n",
    "    coords,\n",
    "    display_mode='l', figure=fig\n",
    ")"
   ]
  },
  {
   "cell_type": "code",
   "execution_count": 59,
   "id": "97ce22b3",
   "metadata": {},
   "outputs": [
    {
     "data": {
      "text/plain": [
       "<AxesSubplot:>"
      ]
     },
     "execution_count": 59,
     "metadata": {},
     "output_type": "execute_result"
    },
    {
     "data": {
      "image/png": "[encoded data removed]",
      "text/plain": [
       "<Figure size 432x288 with 1 Axes>"
      ]
     },
     "metadata": {
      "needs_background": "light"
     },
     "output_type": "display_data"
    }
   ],
   "source": [
    "X['GRID37'][250:2000].plot()\n",
    "Y[250:2000].plot()"
   ]
  }
 ],
 "metadata": {
  "kernelspec": {
   "display_name": "Python 3.8.8 64-bit ('base': conda)",
   "language": "python",
   "name": "python388jvsc74a57bd040d3a090f54c6569ab1632332b64b2c03c39dcf918b08424e98f38b5ae0af88f"
  },
  "language_info": {
   "codemirror_mode": {
    "name": "ipython",
    "version": 3
   },
   "file_extension": ".py",
   "mimetype": "text/x-python",
   "name": "python",
   "nbconvert_exporter": "python",
   "pygments_lexer": "ipython3",
   "version": "3.8.8"
  }
 },
 "nbformat": 4,
 "nbformat_minor": 5
}
