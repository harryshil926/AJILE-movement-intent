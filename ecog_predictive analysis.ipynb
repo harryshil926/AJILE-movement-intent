{
 "cells": [
  {
   "cell_type": "code",
   "execution_count": 22,
   "id": "18f3a03a",
   "metadata": {},
   "outputs": [],
   "source": [
    "import pandas as pd\n",
    "from sklearn.linear_model import LogisticRegression\n",
    "from sklearn.metrics import balanced_accuracy_score"
   ]
  },
  {
   "cell_type": "code",
   "execution_count": 2,
   "id": "b551c48f",
   "metadata": {},
   "outputs": [],
   "source": [
    "df = pd.read_csv('/Users/harshil.dadlani/Desktop/UW_Courses/2021_Fall/560/Project/Datasets/Extracted_Data/final_extracted_a0f66459.csv')"
   ]
  },
  {
   "cell_type": "code",
   "execution_count": 33,
   "id": "2ac7631c",
   "metadata": {},
   "outputs": [],
   "source": [
    "electrode_col_names = [col for col in df.columns if 'GRID' in col ]"
   ]
  },
  {
   "cell_type": "code",
   "execution_count": 39,
   "id": "d12d3dd1",
   "metadata": {},
   "outputs": [],
   "source": [
    "X = df[electrode_col_names]\n",
    "Y = df['mvmt']"
   ]
  },
  {
   "cell_type": "code",
   "execution_count": 41,
   "id": "3af2ae21",
   "metadata": {},
   "outputs": [],
   "source": [
    "from sklearn.model_selection import train_test_split\n",
    "X_train, X_test, y_train, y_test = train_test_split(X, Y,\n",
    "                                                    stratify=Y, \n",
    "                                                    test_size=0.20)"
   ]
  },
  {
   "cell_type": "code",
   "execution_count": 42,
   "id": "9adc8859",
   "metadata": {},
   "outputs": [],
   "source": [
    "X_train, X_val, y_train, y_val = train_test_split(X_train, y_train,\n",
    "                                                    stratify=y_train, \n",
    "                                                    test_size=0.10)"
   ]
  },
  {
   "cell_type": "code",
   "execution_count": 60,
   "id": "4c4f97e4",
   "metadata": {},
   "outputs": [
    {
     "name": "stderr",
     "output_type": "stream",
     "text": [
      "/opt/anaconda3/lib/python3.8/site-packages/sklearn/linear_model/_logistic.py:763: ConvergenceWarning: lbfgs failed to converge (status=1):\n",
      "STOP: TOTAL NO. of ITERATIONS REACHED LIMIT.\n",
      "\n",
      "Increase the number of iterations (max_iter) or scale the data as shown in:\n",
      "    https://scikit-learn.org/stable/modules/preprocessing.html\n",
      "Please also refer to the documentation for alternative solver options:\n",
      "    https://scikit-learn.org/stable/modules/linear_model.html#logistic-regression\n",
      "  n_iter_i = _check_optimize_result(\n"
     ]
    }
   ],
   "source": [
    "clf = LogisticRegression(random_state=0, C=100).fit(X_train, y_train)"
   ]
  },
  {
   "cell_type": "code",
   "execution_count": 61,
   "id": "0b55b172",
   "metadata": {},
   "outputs": [
    {
     "data": {
      "text/plain": [
       "array(['mv_0', 'r_arm_1', 'r_arm_1', 'r_arm_1', 'r_arm_1', 'r_arm_1',\n",
       "       'r_arm_1', 'r_arm_1', 'r_arm_1', 'r_arm_1', 'r_arm_1', 'r_arm_1',\n",
       "       'r_arm_1', 'r_arm_1', 'r_arm_1', 'r_arm_1', 'r_arm_1', 'r_arm_1',\n",
       "       'r_arm_1', 'r_arm_1', 'r_arm_1', 'r_arm_1', 'r_arm_1', 'r_arm_1',\n",
       "       'r_arm_1', 'r_arm_1', 'r_arm_1', 'r_arm_1', 'r_arm_1', 'r_arm_1',\n",
       "       'r_arm_1', 'r_arm_1', 'r_arm_1', 'r_arm_1', 'r_arm_1', 'r_arm_1',\n",
       "       'r_arm_1', 'r_arm_1', 'r_arm_1', 'r_arm_1', 'r_arm_1', 'r_arm_1',\n",
       "       'mv_0', 'r_arm_1', 'r_arm_1', 'r_arm_1', 'r_arm_1', 'r_arm_1',\n",
       "       'r_arm_1', 'r_arm_1', 'r_arm_1', 'r_arm_1', 'r_arm_1', 'r_arm_1',\n",
       "       'r_arm_1', 'r_arm_1', 'r_arm_1', 'r_arm_1', 'r_arm_1', 'r_arm_1',\n",
       "       'r_arm_1', 'r_arm_1', 'r_arm_1', 'r_arm_1', 'r_arm_1', 'r_arm_1',\n",
       "       'r_arm_1', 'r_arm_1', 'r_arm_1', 'r_arm_1', 'r_arm_1', 'r_arm_1',\n",
       "       'r_arm_1', 'r_arm_1', 'r_arm_1', 'r_arm_1', 'r_arm_1', 'r_arm_1',\n",
       "       'r_arm_1', 'r_arm_1', 'r_arm_1', 'r_arm_1', 'r_arm_1', 'r_arm_1',\n",
       "       'r_arm_1', 'mv_0', 'r_arm_1', 'r_arm_1', 'r_arm_1', 'r_arm_1',\n",
       "       'r_arm_1', 'r_arm_1', 'r_arm_1', 'r_arm_1', 'r_arm_1', 'r_arm_1',\n",
       "       'r_arm_1', 'r_arm_1', 'r_arm_1', 'mv_0', 'r_arm_1', 'mv_0',\n",
       "       'r_arm_1', 'r_arm_1', 'r_arm_1', 'r_arm_1', 'r_arm_1', 'r_arm_1',\n",
       "       'r_arm_1', 'r_arm_1', 'r_arm_1', 'r_arm_1', 'r_arm_1', 'r_arm_1',\n",
       "       'r_arm_1', 'mv_0', 'r_arm_1', 'r_arm_1', 'r_arm_1', 'r_arm_1',\n",
       "       'r_arm_1', 'r_arm_1', 'r_arm_1', 'r_arm_1', 'r_arm_1', 'r_arm_1',\n",
       "       'r_arm_1', 'r_arm_1', 'r_arm_1', 'mv_0', 'r_arm_1', 'r_arm_1',\n",
       "       'r_arm_1', 'r_arm_1', 'r_arm_1'], dtype=object)"
      ]
     },
     "execution_count": 61,
     "metadata": {},
     "output_type": "execute_result"
    }
   ],
   "source": [
    "clf.predict(X_val)"
   ]
  },
  {
   "cell_type": "code",
   "execution_count": 62,
   "id": "ed09f770",
   "metadata": {},
   "outputs": [
    {
     "data": {
      "text/plain": [
       "0.4913383958234457"
      ]
     },
     "execution_count": 62,
     "metadata": {},
     "output_type": "execute_result"
    }
   ],
   "source": [
    "y_pred = clf.predict(X_val)\n",
    "y_true = y_val\n",
    "balanced_accuracy_score(y_true, y_pred)"
   ]
  }
 ],
 "metadata": {
  "kernelspec": {
   "display_name": "Python 3",
   "language": "python",
   "name": "python3"
  },
  "language_info": {
   "codemirror_mode": {
    "name": "ipython",
    "version": 3
   },
   "file_extension": ".py",
   "mimetype": "text/x-python",
   "name": "python",
   "nbconvert_exporter": "python",
   "pygments_lexer": "ipython3",
   "version": "3.8.8"
  }
 },
 "nbformat": 4,
 "nbformat_minor": 5
}
