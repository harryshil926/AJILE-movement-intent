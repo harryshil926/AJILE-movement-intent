{
 "cells": [
  {
   "cell_type": "code",
   "execution_count": 1,
   "id": "bfa55484",
   "metadata": {},
   "outputs": [],
   "source": [
    "import pandas as pd\n",
    "import pyedflib\n",
    "import numpy as np\n",
    "import matplotlib.pyplot as plt\n",
    "from scipy import signal\n",
    "from statsmodels.tsa.stattools import adfuller\n",
    "\n",
    "patient_code = 'a0f66459'\n",
    "day = 3\n",
    "data_dir = f\"/Users/harshil.dadlani/Desktop/UW_Courses/2021_Fall/560/Project/Datasets\"\n",
    "\n",
    "movement_init_path = f\"{data_dir}/{patient_code}_mvmt_initiation.csv\"\n",
    "#joint_loc_path = f\"{data_dir}/{patient_code}_day_{day}.csv\"\n",
    "ecog_path = f\"{data_dir}/purged_{patient_code}_day_{day}.edf\""
   ]
  },
  {
   "cell_type": "code",
   "execution_count": 2,
   "id": "500169e5",
   "metadata": {},
   "outputs": [],
   "source": [
    "f = pyedflib.EdfReader(ecog_path) # open the file\n",
    "mvmt_init_df = pd.read_csv(movement_init_path)\n",
    "#joint_loc_df = pd.read_csv(joint_loc_path)"
   ]
  },
  {
   "cell_type": "code",
   "execution_count": 3,
   "id": "0886efe5",
   "metadata": {},
   "outputs": [],
   "source": [
    "# # Convert to series and resample\n",
    "# data = f.readSignal(4)\n",
    "# periods = len(data)\n",
    "# times = pd.timedelta_range(0, periods=periods, freq='L') \n",
    "# ecog_df=pd.Series(data, times)\n",
    "# ecog_df = ecog_df.resample('100L').mean()"
   ]
  },
  {
   "cell_type": "code",
   "execution_count": 4,
   "id": "badaa409",
   "metadata": {},
   "outputs": [],
   "source": [
    "# inferred_freq = pd.infer_freq(pd.to_datetime(joint_loc_df['time'].head(100)))\n",
    "# ecog_df = ecog_df.resample(inferred_freq).mean()\n"
   ]
  },
  {
   "cell_type": "code",
   "execution_count": 5,
   "id": "1cdccff0",
   "metadata": {},
   "outputs": [],
   "source": [
    "# Extract out timestamps\n",
    "timestamps = mvmt_init_df[mvmt_init_df['day']==day]"
   ]
  },
  {
   "cell_type": "code",
   "execution_count": 6,
   "id": "905d1377",
   "metadata": {},
   "outputs": [],
   "source": [
    "def extract_timestamps(timestamps):\n",
    "    indices = pd.to_timedelta(timestamps['time'].apply(lambda x : x[:-5]))\n",
    "    return indices\n",
    "\n",
    "def standardize(data):\n",
    "    return (data - data.mean())/data.std()\n",
    "\n",
    "def pre_process_ecog(series, signal_channel):\n",
    "    '''\n",
    "    Standardizes and removes high frequency noise components as well as line noise.\n",
    "    '''\n",
    "    series = standardize(series)\n",
    "    f_sample = f.samplefrequency(signal_channel) # = 1000 Hz\n",
    "    f_Ny = f_sample / 2. # Nyquist frequency\n",
    "    f_high = 200.        # bandpass max frequency in Hz\n",
    "    f_low = 1.          # bandpass min frequency in Hz\n",
    "    # 1) bandpass filter\n",
    "    b, a = signal.butter(4, [f_low / f_Ny, f_high / f_Ny], 'band')\n",
    "    y = signal.filtfilt(b, a, series)\n",
    "    # 2) bandstop filter, 60 Hz line noise and harmonics\n",
    "    for mult in [1, 2, 3, 4]:\n",
    "        f_stop_mid = 65. * mult\n",
    "        f_stop = np.array([f_stop_mid - 2.5, f_stop_mid + 2.5])\n",
    "        b, a = signal.butter(4, f_stop / f_Ny, 'bandstop')\n",
    "        y = signal.filtfilt(b, a, y)\n",
    "    return y\n",
    "    "
   ]
  },
  {
   "cell_type": "code",
   "execution_count": null,
   "id": "2a1cc061",
   "metadata": {},
   "outputs": [
    {
     "name": "stderr",
     "output_type": "stream",
     "text": [
      "<ipython-input-7-7db3cee7278b>:21: SettingWithCopyWarning: \n",
      "A value is trying to be set on a copy of a slice from a DataFrame.\n",
      "Try using .loc[row_indexer,col_indexer] = value instead\n",
      "\n",
      "See the caveats in the documentation: https://pandas.pydata.org/pandas-docs/stable/user_guide/indexing.html#returning-a-view-versus-a-copy\n",
      "  timestamps['new timestamps'] = list(ecog_series.index)\n",
      "<ipython-input-7-7db3cee7278b>:23: SettingWithCopyWarning: \n",
      "A value is trying to be set on a copy of a slice from a DataFrame.\n",
      "Try using .loc[row_indexer,col_indexer] = value instead\n",
      "\n",
      "See the caveats in the documentation: https://pandas.pydata.org/pandas-docs/stable/user_guide/indexing.html#returning-a-view-versus-a-copy\n",
      "  timestamps[signal_name] = list(ecog_series.values)\n"
     ]
    },
    {
     "name": "stdout",
     "output_type": "stream",
     "text": [
      "GRID1\n",
      "GRID2\n",
      "GRID3\n",
      "GRID4\n",
      "GRID5\n",
      "GRID6\n",
      "GRID7\n",
      "GRID8\n"
     ]
    }
   ],
   "source": [
    "periods = None\n",
    "indices = None\n",
    "for i in range(0,100):\n",
    "    # Read Signal\n",
    "    signal_name = f.signal_label(i)\n",
    "    signal_name = str(signal_name).split(' ')[0][2:]\n",
    "    \n",
    "    if 'GRID' not in signal_name:\n",
    "        continue\n",
    "    ecog_series = f.readSignal(i)\n",
    "    if periods is None:\n",
    "        periods = len(ecog_series)\n",
    "        times = pd.timedelta_range(0, periods=periods, freq='L') \n",
    "    ecog_series = pre_process_ecog(ecog_series,i)\n",
    "    ecog_series = pd.Series(ecog_series, times)\n",
    "    ecog_series = ecog_series.resample('100L').mean()\n",
    "    if indices is None:\n",
    "        indices = extract_timestamps(timestamps)\n",
    "    ecog_series = ecog_series.loc[indices]\n",
    "    if 'new timestamps' not in timestamps.columns:\n",
    "        timestamps['new timestamps'] = list(ecog_series.index)\n",
    "    print(signal_name)\n",
    "    timestamps[signal_name] = list(ecog_series.values)"
   ]
  },
  {
   "cell_type": "code",
   "execution_count": null,
   "id": "e2ba140d",
   "metadata": {},
   "outputs": [],
   "source": [
    "timestamps.to_csv(f'/Users/harshil.dadlani/Desktop/UW_Courses/2021_Fall/560/Project/Datasets/Extracted_Data/extracted_{patient_code}_day_{day}.csv')"
   ]
  },
  {
   "cell_type": "code",
   "execution_count": null,
   "id": "17185d42",
   "metadata": {},
   "outputs": [],
   "source": [
    "timestamps"
   ]
  }
 ],
 "metadata": {
  "kernelspec": {
   "display_name": "Python 3",
   "language": "python",
   "name": "python3"
  },
  "language_info": {
   "codemirror_mode": {
    "name": "ipython",
    "version": 3
   },
   "file_extension": ".py",
   "mimetype": "text/x-python",
   "name": "python",
   "nbconvert_exporter": "python",
   "pygments_lexer": "ipython3",
   "version": "3.8.8"
  }
 },
 "nbformat": 4,
 "nbformat_minor": 5
}
